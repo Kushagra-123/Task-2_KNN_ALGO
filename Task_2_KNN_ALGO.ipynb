{
  "nbformat": 4,
  "nbformat_minor": 0,
  "metadata": {
    "colab": {
      "name": "Task-2_KNN_ALGO.ipynb",
      "provenance": []
    },
    "kernelspec": {
      "name": "python3",
      "display_name": "Python 3"
    },
    "language_info": {
      "name": "python"
    }
  },
  "cells": [
    {
      "cell_type": "code",
      "metadata": {
        "id": "zd9pK0kX1xOu"
      },
      "source": [
        "import pandas as pd\n",
        "import numpy as np\n",
        "import seaborn as sns\n",
        "import matplotlib.pyplot as plt\n",
        "%matplotlib inline"
      ],
      "execution_count": null,
      "outputs": []
    },
    {
      "cell_type": "code",
      "metadata": {
        "id": "ppR9jUUj2TUN"
      },
      "source": [
        "df = pd.read_csv(r'/content/Iris.csv')"
      ],
      "execution_count": null,
      "outputs": []
    },
    {
      "cell_type": "code",
      "metadata": {
        "colab": {
          "base_uri": "https://localhost:8080/",
          "height": 203
        },
        "id": "rJ7F71x03RSS",
        "outputId": "75f54ea1-1d97-47a3-deea-5623ad572550"
      },
      "source": [
        "df.head()"
      ],
      "execution_count": null,
      "outputs": [
        {
          "output_type": "execute_result",
          "data": {
            "text/html": [
              "<div>\n",
              "<style scoped>\n",
              "    .dataframe tbody tr th:only-of-type {\n",
              "        vertical-align: middle;\n",
              "    }\n",
              "\n",
              "    .dataframe tbody tr th {\n",
              "        vertical-align: top;\n",
              "    }\n",
              "\n",
              "    .dataframe thead th {\n",
              "        text-align: right;\n",
              "    }\n",
              "</style>\n",
              "<table border=\"1\" class=\"dataframe\">\n",
              "  <thead>\n",
              "    <tr style=\"text-align: right;\">\n",
              "      <th></th>\n",
              "      <th>Id</th>\n",
              "      <th>SepalLengthCm</th>\n",
              "      <th>SepalWidthCm</th>\n",
              "      <th>PetalLengthCm</th>\n",
              "      <th>PetalWidthCm</th>\n",
              "      <th>Species</th>\n",
              "    </tr>\n",
              "  </thead>\n",
              "  <tbody>\n",
              "    <tr>\n",
              "      <th>0</th>\n",
              "      <td>1</td>\n",
              "      <td>5.1</td>\n",
              "      <td>3.5</td>\n",
              "      <td>1.4</td>\n",
              "      <td>0.2</td>\n",
              "      <td>Iris-setosa</td>\n",
              "    </tr>\n",
              "    <tr>\n",
              "      <th>1</th>\n",
              "      <td>2</td>\n",
              "      <td>4.9</td>\n",
              "      <td>3.0</td>\n",
              "      <td>1.4</td>\n",
              "      <td>0.2</td>\n",
              "      <td>Iris-setosa</td>\n",
              "    </tr>\n",
              "    <tr>\n",
              "      <th>2</th>\n",
              "      <td>3</td>\n",
              "      <td>4.7</td>\n",
              "      <td>3.2</td>\n",
              "      <td>1.3</td>\n",
              "      <td>0.2</td>\n",
              "      <td>Iris-setosa</td>\n",
              "    </tr>\n",
              "    <tr>\n",
              "      <th>3</th>\n",
              "      <td>4</td>\n",
              "      <td>4.6</td>\n",
              "      <td>3.1</td>\n",
              "      <td>1.5</td>\n",
              "      <td>0.2</td>\n",
              "      <td>Iris-setosa</td>\n",
              "    </tr>\n",
              "    <tr>\n",
              "      <th>4</th>\n",
              "      <td>5</td>\n",
              "      <td>5.0</td>\n",
              "      <td>3.6</td>\n",
              "      <td>1.4</td>\n",
              "      <td>0.2</td>\n",
              "      <td>Iris-setosa</td>\n",
              "    </tr>\n",
              "  </tbody>\n",
              "</table>\n",
              "</div>"
            ],
            "text/plain": [
              "   Id  SepalLengthCm  SepalWidthCm  PetalLengthCm  PetalWidthCm      Species\n",
              "0   1            5.1           3.5            1.4           0.2  Iris-setosa\n",
              "1   2            4.9           3.0            1.4           0.2  Iris-setosa\n",
              "2   3            4.7           3.2            1.3           0.2  Iris-setosa\n",
              "3   4            4.6           3.1            1.5           0.2  Iris-setosa\n",
              "4   5            5.0           3.6            1.4           0.2  Iris-setosa"
            ]
          },
          "metadata": {
            "tags": []
          },
          "execution_count": 9
        }
      ]
    },
    {
      "cell_type": "code",
      "metadata": {
        "colab": {
          "base_uri": "https://localhost:8080/"
        },
        "id": "CFfnPbak3mdp",
        "outputId": "4e790983-d16e-47c5-f0f2-edf555f8823e"
      },
      "source": [
        "x = df.iloc[:,0:3].values\n",
        "x"
      ],
      "execution_count": null,
      "outputs": [
        {
          "output_type": "execute_result",
          "data": {
            "text/plain": [
              "array([[  1. ,   5.1,   3.5],\n",
              "       [  2. ,   4.9,   3. ],\n",
              "       [  3. ,   4.7,   3.2],\n",
              "       [  4. ,   4.6,   3.1],\n",
              "       [  5. ,   5. ,   3.6],\n",
              "       [  6. ,   5.4,   3.9],\n",
              "       [  7. ,   4.6,   3.4],\n",
              "       [  8. ,   5. ,   3.4],\n",
              "       [  9. ,   4.4,   2.9],\n",
              "       [ 10. ,   4.9,   3.1],\n",
              "       [ 11. ,   5.4,   3.7],\n",
              "       [ 12. ,   4.8,   3.4],\n",
              "       [ 13. ,   4.8,   3. ],\n",
              "       [ 14. ,   4.3,   3. ],\n",
              "       [ 15. ,   5.8,   4. ],\n",
              "       [ 16. ,   5.7,   4.4],\n",
              "       [ 17. ,   5.4,   3.9],\n",
              "       [ 18. ,   5.1,   3.5],\n",
              "       [ 19. ,   5.7,   3.8],\n",
              "       [ 20. ,   5.1,   3.8],\n",
              "       [ 21. ,   5.4,   3.4],\n",
              "       [ 22. ,   5.1,   3.7],\n",
              "       [ 23. ,   4.6,   3.6],\n",
              "       [ 24. ,   5.1,   3.3],\n",
              "       [ 25. ,   4.8,   3.4],\n",
              "       [ 26. ,   5. ,   3. ],\n",
              "       [ 27. ,   5. ,   3.4],\n",
              "       [ 28. ,   5.2,   3.5],\n",
              "       [ 29. ,   5.2,   3.4],\n",
              "       [ 30. ,   4.7,   3.2],\n",
              "       [ 31. ,   4.8,   3.1],\n",
              "       [ 32. ,   5.4,   3.4],\n",
              "       [ 33. ,   5.2,   4.1],\n",
              "       [ 34. ,   5.5,   4.2],\n",
              "       [ 35. ,   4.9,   3.1],\n",
              "       [ 36. ,   5. ,   3.2],\n",
              "       [ 37. ,   5.5,   3.5],\n",
              "       [ 38. ,   4.9,   3.1],\n",
              "       [ 39. ,   4.4,   3. ],\n",
              "       [ 40. ,   5.1,   3.4],\n",
              "       [ 41. ,   5. ,   3.5],\n",
              "       [ 42. ,   4.5,   2.3],\n",
              "       [ 43. ,   4.4,   3.2],\n",
              "       [ 44. ,   5. ,   3.5],\n",
              "       [ 45. ,   5.1,   3.8],\n",
              "       [ 46. ,   4.8,   3. ],\n",
              "       [ 47. ,   5.1,   3.8],\n",
              "       [ 48. ,   4.6,   3.2],\n",
              "       [ 49. ,   5.3,   3.7],\n",
              "       [ 50. ,   5. ,   3.3],\n",
              "       [ 51. ,   7. ,   3.2],\n",
              "       [ 52. ,   6.4,   3.2],\n",
              "       [ 53. ,   6.9,   3.1],\n",
              "       [ 54. ,   5.5,   2.3],\n",
              "       [ 55. ,   6.5,   2.8],\n",
              "       [ 56. ,   5.7,   2.8],\n",
              "       [ 57. ,   6.3,   3.3],\n",
              "       [ 58. ,   4.9,   2.4],\n",
              "       [ 59. ,   6.6,   2.9],\n",
              "       [ 60. ,   5.2,   2.7],\n",
              "       [ 61. ,   5. ,   2. ],\n",
              "       [ 62. ,   5.9,   3. ],\n",
              "       [ 63. ,   6. ,   2.2],\n",
              "       [ 64. ,   6.1,   2.9],\n",
              "       [ 65. ,   5.6,   2.9],\n",
              "       [ 66. ,   6.7,   3.1],\n",
              "       [ 67. ,   5.6,   3. ],\n",
              "       [ 68. ,   5.8,   2.7],\n",
              "       [ 69. ,   6.2,   2.2],\n",
              "       [ 70. ,   5.6,   2.5],\n",
              "       [ 71. ,   5.9,   3.2],\n",
              "       [ 72. ,   6.1,   2.8],\n",
              "       [ 73. ,   6.3,   2.5],\n",
              "       [ 74. ,   6.1,   2.8],\n",
              "       [ 75. ,   6.4,   2.9],\n",
              "       [ 76. ,   6.6,   3. ],\n",
              "       [ 77. ,   6.8,   2.8],\n",
              "       [ 78. ,   6.7,   3. ],\n",
              "       [ 79. ,   6. ,   2.9],\n",
              "       [ 80. ,   5.7,   2.6],\n",
              "       [ 81. ,   5.5,   2.4],\n",
              "       [ 82. ,   5.5,   2.4],\n",
              "       [ 83. ,   5.8,   2.7],\n",
              "       [ 84. ,   6. ,   2.7],\n",
              "       [ 85. ,   5.4,   3. ],\n",
              "       [ 86. ,   6. ,   3.4],\n",
              "       [ 87. ,   6.7,   3.1],\n",
              "       [ 88. ,   6.3,   2.3],\n",
              "       [ 89. ,   5.6,   3. ],\n",
              "       [ 90. ,   5.5,   2.5],\n",
              "       [ 91. ,   5.5,   2.6],\n",
              "       [ 92. ,   6.1,   3. ],\n",
              "       [ 93. ,   5.8,   2.6],\n",
              "       [ 94. ,   5. ,   2.3],\n",
              "       [ 95. ,   5.6,   2.7],\n",
              "       [ 96. ,   5.7,   3. ],\n",
              "       [ 97. ,   5.7,   2.9],\n",
              "       [ 98. ,   6.2,   2.9],\n",
              "       [ 99. ,   5.1,   2.5],\n",
              "       [100. ,   5.7,   2.8],\n",
              "       [101. ,   6.3,   3.3],\n",
              "       [102. ,   5.8,   2.7],\n",
              "       [103. ,   7.1,   3. ],\n",
              "       [104. ,   6.3,   2.9],\n",
              "       [105. ,   6.5,   3. ],\n",
              "       [106. ,   7.6,   3. ],\n",
              "       [107. ,   4.9,   2.5],\n",
              "       [108. ,   7.3,   2.9],\n",
              "       [109. ,   6.7,   2.5],\n",
              "       [110. ,   7.2,   3.6],\n",
              "       [111. ,   6.5,   3.2],\n",
              "       [112. ,   6.4,   2.7],\n",
              "       [113. ,   6.8,   3. ],\n",
              "       [114. ,   5.7,   2.5],\n",
              "       [115. ,   5.8,   2.8],\n",
              "       [116. ,   6.4,   3.2],\n",
              "       [117. ,   6.5,   3. ],\n",
              "       [118. ,   7.7,   3.8],\n",
              "       [119. ,   7.7,   2.6],\n",
              "       [120. ,   6. ,   2.2],\n",
              "       [121. ,   6.9,   3.2],\n",
              "       [122. ,   5.6,   2.8],\n",
              "       [123. ,   7.7,   2.8],\n",
              "       [124. ,   6.3,   2.7],\n",
              "       [125. ,   6.7,   3.3],\n",
              "       [126. ,   7.2,   3.2],\n",
              "       [127. ,   6.2,   2.8],\n",
              "       [128. ,   6.1,   3. ],\n",
              "       [129. ,   6.4,   2.8],\n",
              "       [130. ,   7.2,   3. ],\n",
              "       [131. ,   7.4,   2.8],\n",
              "       [132. ,   7.9,   3.8],\n",
              "       [133. ,   6.4,   2.8],\n",
              "       [134. ,   6.3,   2.8],\n",
              "       [135. ,   6.1,   2.6],\n",
              "       [136. ,   7.7,   3. ],\n",
              "       [137. ,   6.3,   3.4],\n",
              "       [138. ,   6.4,   3.1],\n",
              "       [139. ,   6. ,   3. ],\n",
              "       [140. ,   6.9,   3.1],\n",
              "       [141. ,   6.7,   3.1],\n",
              "       [142. ,   6.9,   3.1],\n",
              "       [143. ,   5.8,   2.7],\n",
              "       [144. ,   6.8,   3.2],\n",
              "       [145. ,   6.7,   3.3],\n",
              "       [146. ,   6.7,   3. ],\n",
              "       [147. ,   6.3,   2.5],\n",
              "       [148. ,   6.5,   3. ],\n",
              "       [149. ,   6.2,   3.4],\n",
              "       [150. ,   5.9,   3. ]])"
            ]
          },
          "metadata": {
            "tags": []
          },
          "execution_count": 10
        }
      ]
    },
    {
      "cell_type": "code",
      "metadata": {
        "id": "UcBrZvQe5L6u"
      },
      "source": [
        "from sklearn.cluster import KMeans\n",
        "wcss = []\n",
        "for i in range(1,11):\n",
        "  kmeans = KMeans(n_clusters = i,init = 'k-means++',max_iter = 300,n_init = 10,random_state = 0)\n",
        "  kmeans.fit(x)\n",
        "  wcss.append(kmeans.inertia_)"
      ],
      "execution_count": null,
      "outputs": []
    },
    {
      "cell_type": "code",
      "metadata": {
        "id": "QZ9yGgdr7FHL",
        "colab": {
          "base_uri": "https://localhost:8080/",
          "height": 295
        },
        "outputId": "6583b510-77b7-4f28-f935-ccc8d665d225"
      },
      "source": [
        "#elbow method#\n",
        "plt.plot(range(1,11),wcss)\n",
        "plt.title('Elbow Method')\n",
        "plt.xlabel('number of clusters')\n",
        "plt.ylabel('WCSS')\n",
        "plt.show()"
      ],
      "execution_count": null,
      "outputs": [
        {
          "output_type": "display_data",
          "data": {
            "image/png": "[encoded data removed]",
            "text/plain": [
              "<Figure size 432x288 with 1 Axes>"
            ]
          },
          "metadata": {
            "tags": [],
            "needs_background": "light"
          }
        }
      ]
    },
    {
      "cell_type": "code",
      "metadata": {
        "id": "YLGdti6-U-Hn"
      },
      "source": [
        "y_kmeans = kmeans.predict(x)"
      ],
      "execution_count": 18,
      "outputs": []
    },
    {
      "cell_type": "code",
      "metadata": {
        "id": "iyZ4cikTVZEa",
        "colab": {
          "base_uri": "https://localhost:8080/",
          "height": 282
        },
        "outputId": "5f677980-0167-4ec5-9465-39ae77f39137"
      },
      "source": [
        "#visualising clusters#\n",
        "plt.scatter(x[y_kmeans == 0, 0], x[y_kmeans == 0, 1], \n",
        "            s = 100, c = 'red', label = 'Iris-setosa')\n",
        "plt.scatter(x[y_kmeans == 1, 0], x[y_kmeans == 1, 1], \n",
        "            s = 100, c = 'blue', label = 'Iris-versicolour')\n",
        "plt.scatter(x[y_kmeans == 2, 0], x[y_kmeans == 2, 1],\n",
        "            s = 100, c = 'green', label = 'Iris-virginica')\n",
        "\n",
        "# Plotting the centroids of the clusters\n",
        "plt.scatter(kmeans.cluster_centers_[:, 0], kmeans.cluster_centers_[:,1], \n",
        "            s = 100, c = 'yellow', label = 'Centroids')\n",
        "\n",
        "plt.legend()"
      ],
      "execution_count": 19,
      "outputs": [
        {
          "output_type": "execute_result",
          "data": {
            "text/plain": [
              "<matplotlib.legend.Legend at 0x7faa08239950>"
            ]
          },
          "metadata": {
            "tags": []
          },
          "execution_count": 19
        },
        {
          "output_type": "display_data",
          "data": {
            "image/png": "[encoded data removed]",
            "text/plain": [
              "<Figure size 432x288 with 1 Axes>"
            ]
          },
          "metadata": {
            "tags": [],
            "needs_background": "light"
          }
        }
      ]
    }
  ]
}